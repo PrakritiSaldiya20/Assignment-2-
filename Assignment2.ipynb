{
 "cells": [
  {
   "cell_type": "code",
   "execution_count": 3,
   "id": "c46050a2-31db-4923-a86b-92fd889e2e1a",
   "metadata": {},
   "outputs": [
    {
     "data": {
      "text/plain": [
       "'Multi Line Comment - They are used for multiple lines and are enclosed within triple quotes '"
      ]
     },
     "execution_count": 3,
     "metadata": {},
     "output_type": "execute_result"
    }
   ],
   "source": [
    "#1\n",
    "# We comment code in Python using '#'\n",
    "# Python supports two types of comments :\n",
    "# Single Line Comment - They are used for a single line and start with a (#) Symbol. Anything after the # symbol is considered as a\n",
    "#                       comment and is ignored by the Python interpreter.\n",
    "\"\"\"Multi Line Comment - They are used for multiple lines and are enclosed within triple quotes \"\"\""
   ]
  },
  {
   "cell_type": "code",
   "execution_count": 8,
   "id": "6995b119-c149-417b-881e-63424f080eb7",
   "metadata": {},
   "outputs": [],
   "source": [
    "#2\n",
    "#In Python, variables are used to store and manipulate data. They act as named containers that hold values of various types, such\n",
    "# as numbers, strings, lists, or objects.\n",
    "# Rules for assigning varibles in Python- 1. The first character of a a variable name cannotbe a digit.\n",
    "#                                         2. They can contain letters, digits and underscores.\n",
    "# We can declare or assign values to the variables as:\n",
    "# variable_name = value\n",
    "var = 63\n",
    "age = 79"
   ]
  },
  {
   "cell_type": "code",
   "execution_count": 10,
   "id": "415778ad-6c59-4fea-b944-4493654a4e0c",
   "metadata": {},
   "outputs": [
    {
     "data": {
      "text/plain": [
       "63"
      ]
     },
     "execution_count": 10,
     "metadata": {},
     "output_type": "execute_result"
    }
   ],
   "source": [
    "var"
   ]
  },
  {
   "cell_type": "code",
   "execution_count": 11,
   "id": "6c618028-5228-4e2d-bd06-bd13a78166f6",
   "metadata": {},
   "outputs": [
    {
     "data": {
      "text/plain": [
       "79"
      ]
     },
     "execution_count": 11,
     "metadata": {},
     "output_type": "execute_result"
    }
   ],
   "source": [
    "age"
   ]
  },
  {
   "cell_type": "code",
   "execution_count": 12,
   "id": "3c627abd-5239-4fd0-8e74-1cf48577eba3",
   "metadata": {},
   "outputs": [],
   "source": [
    "#In Python, you can convert one data type to another by using type conversion functions.\n",
    "#For example:"
   ]
  },
  {
   "cell_type": "code",
   "execution_count": 13,
   "id": "9e2b3f78-e4e8-484b-a8f4-f390601c566f",
   "metadata": {},
   "outputs": [],
   "source": [
    "a=65\n",
    "b=str(a)\n",
    "c=float(a)"
   ]
  },
  {
   "cell_type": "code",
   "execution_count": 14,
   "id": "706fdc6f-4818-4bed-9fb9-2868e70f1eee",
   "metadata": {},
   "outputs": [
    {
     "data": {
      "text/plain": [
       "65"
      ]
     },
     "execution_count": 14,
     "metadata": {},
     "output_type": "execute_result"
    }
   ],
   "source": [
    "a"
   ]
  },
  {
   "cell_type": "code",
   "execution_count": 15,
   "id": "4af6eed3-5dd6-4cb0-a3e0-4e59c7e14b57",
   "metadata": {},
   "outputs": [
    {
     "data": {
      "text/plain": [
       "'65'"
      ]
     },
     "execution_count": 15,
     "metadata": {},
     "output_type": "execute_result"
    }
   ],
   "source": [
    "b"
   ]
  },
  {
   "cell_type": "code",
   "execution_count": 16,
   "id": "63564f3f-a8d0-43ca-907a-0d684b952eec",
   "metadata": {},
   "outputs": [
    {
     "data": {
      "text/plain": [
       "65.0"
      ]
     },
     "execution_count": 16,
     "metadata": {},
     "output_type": "execute_result"
    }
   ],
   "source": [
    "c"
   ]
  },
  {
   "cell_type": "code",
   "execution_count": 17,
   "id": "9591530d-09c1-4de9-a74e-291341cb5de3",
   "metadata": {},
   "outputs": [
    {
     "data": {
      "text/plain": [
       "'1.Open a text editor and create a new file. You can use any text editor of your choice, such as Notepad, Sublime Text,\\n     Visual Studio Code, or any integrated development environment (IDE) like PyCharm.\\n2.Write your Python code in the text file.For example, let\\'s create a simple script that prints \"Hello, World!\"\\n3.Save the file with a .py extension. Choose a meaningful name for your script, and make sure to save it with the .py file \\n  extension. For example, save the file as hello.py.\\n4.Open the command prompt or terminal on your operating system. The method for opening the command prompt varies depending on your \\n  operating system. In Windows, you can press Win + R, type \"cmd,\" and press Enter. On macOS, you can use Spotlight Search and \\n  search for \"Terminal.\" On Linux, you can press Ctrl + Alt + T to open the terminal.\\n5.Navigate to the directory where you saved your Python script using the cd command. For example, if your script is saved on the \\n  desktop, you can navigate to the desktop directory using: cd Dekstop\\n6.Execute the Python script by entering the following command in the command prompt or terminal:\\n  python hello.py\\n7.Press Enter to run the script. The output of the script, in this case, \"Hello, World!\", will be displayed in the command prompt \\n  or terminal.'"
      ]
     },
     "execution_count": 17,
     "metadata": {},
     "output_type": "execute_result"
    }
   ],
   "source": [
    "#4\n",
    "\"\"\"1.Open a text editor and create a new file. You can use any text editor of your choice, such as Notepad, Sublime Text,\n",
    "     Visual Studio Code, or any integrated development environment (IDE) like PyCharm.\n",
    "2.Write your Python code in the text file.For example, let's create a simple script that prints \"Hello, World!\"\n",
    "3.Save the file with a .py extension. Choose a meaningful name for your script, and make sure to save it with the .py file \n",
    "  extension. For example, save the file as hello.py.\n",
    "4.Open the command prompt or terminal on your operating system. The method for opening the command prompt varies depending on your \n",
    "  operating system. In Windows, you can press Win + R, type \"cmd,\" and press Enter. On macOS, you can use Spotlight Search and \n",
    "  search for \"Terminal.\" On Linux, you can press Ctrl + Alt + T to open the terminal.\n",
    "5.Navigate to the directory where you saved your Python script using the cd command. For example, if your script is saved on the \n",
    "  desktop, you can navigate to the desktop directory using: cd Dekstop\n",
    "6.Execute the Python script by entering the following command in the command prompt or terminal:\n",
    "  python hello.py\n",
    "7.Press Enter to run the script. The output of the script, in this case, \"Hello, World!\", will be displayed in the command prompt \n",
    "  or terminal.\"\"\""
   ]
  },
  {
   "cell_type": "code",
   "execution_count": 18,
   "id": "12da0891-cc8e-40bc-9344-f859e914d791",
   "metadata": {},
   "outputs": [
    {
     "data": {
      "text/plain": [
       "[2, 3]"
      ]
     },
     "execution_count": 18,
     "metadata": {},
     "output_type": "execute_result"
    }
   ],
   "source": [
    "#5\n",
    "my_list=[1,2,3,4,5]\n",
    "my_list[1:3]"
   ]
  },
  {
   "cell_type": "code",
   "execution_count": 19,
   "id": "b0c03d27-b195-48d5-9c3a-cf8e8fb57fc3",
   "metadata": {},
   "outputs": [],
   "source": [
    "#6\n",
    "#A number that consists of a real part and an imaginary part is called a complex number.Only 'j' is used as a variable for the\n",
    "#imaginary part\n",
    "a=2+8j"
   ]
  },
  {
   "cell_type": "code",
   "execution_count": 20,
   "id": "34dc121e-af1d-4b28-ad55-4f6c6797e6d2",
   "metadata": {},
   "outputs": [
    {
     "data": {
      "text/plain": [
       "(2+8j)"
      ]
     },
     "execution_count": 20,
     "metadata": {},
     "output_type": "execute_result"
    }
   ],
   "source": [
    "a"
   ]
  },
  {
   "cell_type": "code",
   "execution_count": 21,
   "id": "e020aa28-a719-4872-bd9b-e36ab3ff77cf",
   "metadata": {},
   "outputs": [],
   "source": [
    "#7\n",
    "age=25"
   ]
  },
  {
   "cell_type": "code",
   "execution_count": 22,
   "id": "ce302dac-2f63-481a-8cb7-c9cfbdaca0d0",
   "metadata": {},
   "outputs": [],
   "source": [
    "#8\n",
    "price=9.99"
   ]
  },
  {
   "cell_type": "code",
   "execution_count": 23,
   "id": "3dd5cb21-24c9-4b67-8fbf-d0977cb93c16",
   "metadata": {},
   "outputs": [
    {
     "data": {
      "text/plain": [
       "float"
      ]
     },
     "execution_count": 23,
     "metadata": {},
     "output_type": "execute_result"
    }
   ],
   "source": [
    "type(price)"
   ]
  },
  {
   "cell_type": "code",
   "execution_count": 27,
   "id": "c47c7d9e-7166-4439-84a8-79f0738c94a7",
   "metadata": {},
   "outputs": [
    {
     "name": "stdout",
     "output_type": "stream",
     "text": [
      "Prakriti Saldiya\n"
     ]
    }
   ],
   "source": [
    "#9\n",
    "name=\"Prakriti Saldiya\"\n",
    "print(name)"
   ]
  },
  {
   "cell_type": "code",
   "execution_count": 30,
   "id": "3252033c-7af9-4cb8-a08f-2ae17167a0ac",
   "metadata": {},
   "outputs": [
    {
     "data": {
      "text/plain": [
       "'World'"
      ]
     },
     "execution_count": 30,
     "metadata": {},
     "output_type": "execute_result"
    }
   ],
   "source": [
    "#10\n",
    "s=\"Hello, World!\"\n",
    "s[7:12]"
   ]
  },
  {
   "cell_type": "code",
   "execution_count": 31,
   "id": "c7b842fe-4d8b-467a-8cd0-a60f78d315ef",
   "metadata": {},
   "outputs": [],
   "source": [
    "#11\n",
    "is_student=True"
   ]
  },
  {
   "cell_type": "code",
   "execution_count": 32,
   "id": "8fb30e28-fcad-4fe9-82be-64a865c6a1e0",
   "metadata": {},
   "outputs": [
    {
     "data": {
      "text/plain": [
       "True"
      ]
     },
     "execution_count": 32,
     "metadata": {},
     "output_type": "execute_result"
    }
   ],
   "source": [
    "a"
   ]
  },
  {
   "cell_type": "code",
   "execution_count": null,
   "id": "e8625050-3316-4c65-8cd2-602cb22d93ca",
   "metadata": {},
   "outputs": [],
   "source": []
  }
 ],
 "metadata": {
  "kernelspec": {
   "display_name": "Python 3 (ipykernel)",
   "language": "python",
   "name": "python3"
  },
  "language_info": {
   "codemirror_mode": {
    "name": "ipython",
    "version": 3
   },
   "file_extension": ".py",
   "mimetype": "text/x-python",
   "name": "python",
   "nbconvert_exporter": "python",
   "pygments_lexer": "ipython3",
   "version": "3.10.8"
  }
 },
 "nbformat": 4,
 "nbformat_minor": 5
}
